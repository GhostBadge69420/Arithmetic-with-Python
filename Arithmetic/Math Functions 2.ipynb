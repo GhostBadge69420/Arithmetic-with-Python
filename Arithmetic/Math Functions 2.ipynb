{
 "cells": [
  {
   "cell_type": "markdown",
   "id": "9d148e9c",
   "metadata": {},
   "source": [
    "# 1) Create two functions that will compute x^y and x/y\n",
    "\n",
    "# 2) Input 3 numbers from the user:x,y and a fucntion switch.\n",
    "\n",
    "# 3) Call the requested function.\n",
    "\n",
    "input X:2                                               \n",
    "\n",
    "input Y:4                                                 \n",
    "\n",
    "Press \"1 to compute @^4 or \"2\" to compute 2/4             \n",
    "\n",
    "2\n",
    "\n",
    "2/4 = 0.5\n",
    "\n",
    "\n",
    "\n",
    "\n",
    "\n",
    "\n",
    "input X:3\n",
    "\n",
    "input Y:5\n",
    " \n",
    "Press \"1\" to compute 3^5 or \"2\" to compute 3/5\n",
    "\n",
    "3 \n",
    "\n",
    "Invalid selection!"
   ]
  },
  {
   "cell_type": "code",
   "execution_count": 6,
   "id": "dc920178",
   "metadata": {},
   "outputs": [],
   "source": [
    "from IPython.display import display,Math\n",
    "\n",
    "# create the functions\n",
    "\n",
    "def powers(x,y):\n",
    "    display(Math('%g^{%g} = %g' %(x,y,x**y)))\n",
    "\n",
    "def division(x,y):\n",
    "    display(Math('\\\\frac{%g}{%g} = %g' %(x,y,x/y)))\n",
    "    \n",
    "def mainfunction():\n",
    "    #get input from user\n",
    "    x = int(input('Input X:'))\n",
    "    y = int(input('Input Y:'))\n",
    "    \n",
    "    display(Math('\\\\text{Press \"1 to compute\"}%g^{%g}\\\\text{or press \"2\" to compute}\\\\frac{%g}{%g}' %(x,y,x,y)))\n",
    "    switch = input(' ')\n",
    "    \n",
    "    if switch=='1':\n",
    "        powers(x,y)\n",
    "    elif switch=='2':\n",
    "        division(x,y)\n",
    "    else:\n",
    "        print('Invalid selecion!!!')"
   ]
  },
  {
   "cell_type": "code",
   "execution_count": 7,
   "id": "ecf3f3b2",
   "metadata": {},
   "outputs": [
    {
     "data": {
      "text/latex": [
       "$\\displaystyle 2^{4} = 16$"
      ],
      "text/plain": [
       "<IPython.core.display.Math object>"
      ]
     },
     "metadata": {},
     "output_type": "display_data"
    }
   ],
   "source": [
    "powers(2,4)"
   ]
  },
  {
   "cell_type": "code",
   "execution_count": 8,
   "id": "b0c7cd57",
   "metadata": {},
   "outputs": [
    {
     "data": {
      "text/latex": [
       "$\\displaystyle \\frac{2}{4} = 0.5$"
      ],
      "text/plain": [
       "<IPython.core.display.Math object>"
      ]
     },
     "metadata": {},
     "output_type": "display_data"
    }
   ],
   "source": [
    "division(2,4)"
   ]
  },
  {
   "cell_type": "code",
   "execution_count": 11,
   "id": "db772bea",
   "metadata": {},
   "outputs": [
    {
     "name": "stdout",
     "output_type": "stream",
     "text": [
      "Input X:6\n",
      "Input Y:9\n"
     ]
    },
    {
     "data": {
      "text/latex": [
       "$\\displaystyle \\text{Press \"1 to compute\"}6^{9}\\text{or press \"2\" to compute}\\frac{6}{9}$"
      ],
      "text/plain": [
       "<IPython.core.display.Math object>"
      ]
     },
     "metadata": {},
     "output_type": "display_data"
    },
    {
     "name": "stdout",
     "output_type": "stream",
     "text": [
      " 12\n",
      "Invalid selecion!!!\n"
     ]
    }
   ],
   "source": [
    "mainfunction()"
   ]
  },
  {
   "cell_type": "code",
   "execution_count": null,
   "id": "158f54e9",
   "metadata": {},
   "outputs": [],
   "source": []
  }
 ],
 "metadata": {
  "kernelspec": {
   "display_name": "Python 3 (ipykernel)",
   "language": "python",
   "name": "python3"
  },
  "language_info": {
   "codemirror_mode": {
    "name": "ipython",
    "version": 3
   },
   "file_extension": ".py",
   "mimetype": "text/x-python",
   "name": "python",
   "nbconvert_exporter": "python",
   "pygments_lexer": "ipython3",
   "version": "3.10.9"
  }
 },
 "nbformat": 4,
 "nbformat_minor": 5
}
