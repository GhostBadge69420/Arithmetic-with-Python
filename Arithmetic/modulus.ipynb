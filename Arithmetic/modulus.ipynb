{
 "cells": [
  {
   "cell_type": "code",
   "execution_count": 8,
   "metadata": {},
   "outputs": [],
   "source": [
    "from IPython.display import display,Math"
   ]
  },
  {
   "cell_type": "code",
   "execution_count": 1,
   "metadata": {},
   "outputs": [
    {
     "data": {
      "text/plain": [
       "3.3333333333333335"
      ]
     },
     "execution_count": 1,
     "metadata": {},
     "output_type": "execute_result"
    }
   ],
   "source": [
    "a = 10\n",
    "b = 3\n",
    "\n",
    "# division \n",
    "a/b\n"
   ]
  },
  {
   "cell_type": "code",
   "execution_count": 2,
   "metadata": {},
   "outputs": [
    {
     "data": {
      "text/plain": [
       "3"
      ]
     },
     "execution_count": 2,
     "metadata": {},
     "output_type": "execute_result"
    }
   ],
   "source": [
    "a = 10\n",
    "b = 3\n",
    "\n",
    "# integer division \n",
    "int(a/b)"
   ]
  },
  {
   "cell_type": "code",
   "execution_count": 3,
   "metadata": {},
   "outputs": [
    {
     "data": {
      "text/plain": [
       "1"
      ]
     },
     "execution_count": 3,
     "metadata": {},
     "output_type": "execute_result"
    }
   ],
   "source": [
    "a%b"
   ]
  },
  {
   "cell_type": "code",
   "execution_count": 6,
   "metadata": {},
   "outputs": [
    {
     "name": "stdout",
     "output_type": "stream",
     "text": [
      "1.23131e+06 goes int 1.23131e+07, 9 times with a remainder of 1.23131e+06\n"
     ]
    }
   ],
   "source": [
    "a = 12313134\n",
    "b= 1231314\n",
    "\n",
    "divis = int(a/b)\n",
    "remainder = a%b\n",
    "\n",
    "print('%g goes int %g, %g times with a remainder of %g' %(b,a,divis,remainder))"
   ]
  },
  {
   "attachments": {},
   "cell_type": "markdown",
   "metadata": {},
   "source": [
    "# Exercise\n",
    "\n",
    "-5 is an odd number\n",
    "\n",
    "-4 is an even number\n",
    "\n",
    "-3 is an odd number\n",
    "\n",
    "-2 is an even number\n",
    "\n",
    "-1 is an odd number\n",
    "\n",
    "0 is an even number\n",
    "\n",
    "1 is an odd number\n",
    "\n",
    "2 is an even number\n",
    "\n",
    "3 is an odd number\n",
    "\n",
    "4 is an even number \n",
    "\n",
    "5 is an odd number "
   ]
  },
  {
   "cell_type": "code",
   "execution_count": 12,
   "metadata": {},
   "outputs": [
    {
     "name": "stdout",
     "output_type": "stream",
     "text": [
      "-5 is an odd number\n",
      "-4 is an even number\n",
      "-3 is an odd number\n",
      "-2 is an even number\n",
      "-1 is an odd number\n",
      " 0 is an even number\n",
      " 1 is an odd number\n",
      " 2 is an even number\n",
      " 3 is an odd number\n",
      " 4 is an even number\n",
      " 5 is an odd number\n"
     ]
    }
   ],
   "source": [
    "nums = range(-5,6)\n",
    "\n",
    "for i in nums:\n",
    "\n",
    "    firstchar = ' '\n",
    "    if i<0:\n",
    "        firstchar = ''\n",
    "\n",
    "    #test and report\n",
    "    if i%2 == 0:\n",
    "        print('%s%g is an even number' %(firstchar,i))\n",
    "    else:\n",
    "        print('%s%g is an odd number' %(firstchar,i))"
   ]
  }
 ],
 "metadata": {
  "kernelspec": {
   "display_name": "Python 3",
   "language": "python",
   "name": "python3"
  },
  "language_info": {
   "codemirror_mode": {
    "name": "ipython",
    "version": 3
   },
   "file_extension": ".py",
   "mimetype": "text/x-python",
   "name": "python",
   "nbconvert_exporter": "python",
   "pygments_lexer": "ipython3",
   "version": "3.11.2"
  }
 },
 "nbformat": 4,
 "nbformat_minor": 2
}
