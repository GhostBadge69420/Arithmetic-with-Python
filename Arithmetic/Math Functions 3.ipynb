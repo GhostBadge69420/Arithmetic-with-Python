{
 "cells": [
  {
   "cell_type": "code",
   "execution_count": 3,
   "id": "3c421310",
   "metadata": {},
   "outputs": [],
   "source": [
    "from numpy import random\n",
    "\n",
    "# function definition (no inputs necessary)\n",
    "def guessTheNumber():\n",
    "    \n",
    "    #generate a random integer\n",
    "    num2guess = random.randint(1,101)\n",
    "    \n",
    "    #ask the user for the guess\n",
    "    userguess = int(input('Guess a number between 1 and 100:'))\n",
    "    \n",
    "    # check whether the number is a match\n",
    "    while userguess!=num2guess:\n",
    "        \n",
    "        #print informative message and ask for another guess\n",
    "        if userguess<num2guess:\n",
    "            print('Guess higher!')\n",
    "        elif userguess>num2guess:\n",
    "            print('Guess lower!')\n",
    "            \n",
    "        userguess = int(input('Guess again:'))\n",
    "        \n",
    "    # if the guess is correct, congratulate the user!\n",
    "    print('Yes!! you guessed correctly ')"
   ]
  },
  {
   "cell_type": "code",
   "execution_count": null,
   "id": "27403355",
   "metadata": {},
   "outputs": [],
   "source": [
    "guessTheNumber()"
   ]
  },
  {
   "cell_type": "code",
   "execution_count": null,
   "id": "62cbe6ca",
   "metadata": {},
   "outputs": [],
   "source": []
  }
 ],
 "metadata": {
  "kernelspec": {
   "display_name": "Python 3 (ipykernel)",
   "language": "python",
   "name": "python3"
  },
  "language_info": {
   "codemirror_mode": {
    "name": "ipython",
    "version": 3
   },
   "file_extension": ".py",
   "mimetype": "text/x-python",
   "name": "python",
   "nbconvert_exporter": "python",
   "pygments_lexer": "ipython3",
   "version": "3.10.9"
  }
 },
 "nbformat": 4,
 "nbformat_minor": 5
}
