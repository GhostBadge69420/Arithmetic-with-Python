{
 "cells": [
  {
   "cell_type": "code",
   "execution_count": 1,
   "id": "41f3f300",
   "metadata": {},
   "outputs": [],
   "source": [
    "from IPython.display import display,Math"
   ]
  },
  {
   "cell_type": "markdown",
   "id": "c6826f62",
   "metadata": {},
   "source": [
    "x = '1'\n",
    "\n",
    "y = '2'\n",
    "\n",
    "print(x+y)"
   ]
  },
  {
   "cell_type": "code",
   "execution_count": 2,
   "id": "d2e055dc",
   "metadata": {},
   "outputs": [
    {
     "name": "stdout",
     "output_type": "stream",
     "text": [
      "3\n"
     ]
    }
   ],
   "source": [
    "x = 1\n",
    "y = 2\n",
    "print(x+y)"
   ]
  },
  {
   "cell_type": "markdown",
   "id": "524a085c",
   "metadata": {},
   "source": [
    "display(Math('\\frac{1}{2}'))"
   ]
  },
  {
   "cell_type": "code",
   "execution_count": 3,
   "id": "b3186593",
   "metadata": {},
   "outputs": [
    {
     "data": {
      "text/latex": [
       "$\\displaystyle \\frac{1}{2}$"
      ],
      "text/plain": [
       "<IPython.core.display.Math object>"
      ]
     },
     "metadata": {},
     "output_type": "display_data"
    }
   ],
   "source": [
    "display(Math('\\\\frac{1}{2}'))"
   ]
  },
  {
   "cell_type": "markdown",
   "id": "44dd386f",
   "metadata": {},
   "source": [
    "x = 4\n",
    "\n",
    "y = 5\n",
    "\n",
    "display(Math('%g + %g = %g' %(x,y)))"
   ]
  },
  {
   "cell_type": "code",
   "execution_count": 5,
   "id": "7395743c",
   "metadata": {},
   "outputs": [
    {
     "data": {
      "text/latex": [
       "$\\displaystyle 4 + 5 = 9$"
      ],
      "text/plain": [
       "<IPython.core.display.Math object>"
      ]
     },
     "metadata": {},
     "output_type": "display_data"
    }
   ],
   "source": [
    "x = 4\n",
    "y = 5\n",
    "display(Math('%g + %g = %g' %(x,y,x+y)))"
   ]
  },
  {
   "cell_type": "markdown",
   "id": "85a6cab4",
   "metadata": {},
   "source": [
    "display(Math('\\ \\frac{%i}{%i} = %i'%(i,i*2)))"
   ]
  },
  {
   "cell_type": "code",
   "execution_count": 7,
   "id": "d1ca7482",
   "metadata": {},
   "outputs": [
    {
     "data": {
      "text/latex": [
       "$\\displaystyle \\frac{4}{5} = 0.8$"
      ],
      "text/plain": [
       "<IPython.core.display.Math object>"
      ]
     },
     "metadata": {},
     "output_type": "display_data"
    }
   ],
   "source": [
    "display(Math('\\\\frac{%g}{%g} = %g'%(x,y,x/y)))"
   ]
  },
  {
   "cell_type": "markdown",
   "id": "cbe2492c",
   "metadata": {},
   "source": [
    "3^2 = 9"
   ]
  },
  {
   "cell_type": "code",
   "execution_count": 8,
   "id": "deda7e28",
   "metadata": {},
   "outputs": [
    {
     "data": {
      "text/plain": [
       "9"
      ]
     },
     "execution_count": 8,
     "metadata": {},
     "output_type": "execute_result"
    }
   ],
   "source": [
    "3**2"
   ]
  },
  {
   "cell_type": "markdown",
   "id": "ac31c9db",
   "metadata": {},
   "source": [
    "for i in range(0,3)\n",
    "      \n",
    "      display(Math('%g\\\\times2 = %g'%(i,i*2)))"
   ]
  },
  {
   "cell_type": "code",
   "execution_count": 9,
   "id": "ab309cb7",
   "metadata": {},
   "outputs": [
    {
     "data": {
      "text/latex": [
       "$\\displaystyle 0\\times2 =0$"
      ],
      "text/plain": [
       "<IPython.core.display.Math object>"
      ]
     },
     "metadata": {},
     "output_type": "display_data"
    },
    {
     "data": {
      "text/latex": [
       "$\\displaystyle 1\\times2 =2$"
      ],
      "text/plain": [
       "<IPython.core.display.Math object>"
      ]
     },
     "metadata": {},
     "output_type": "display_data"
    },
    {
     "data": {
      "text/latex": [
       "$\\displaystyle 2\\times2 =4$"
      ],
      "text/plain": [
       "<IPython.core.display.Math object>"
      ]
     },
     "metadata": {},
     "output_type": "display_data"
    }
   ],
   "source": [
    "  for i in range(0,3):\n",
    "        display(Math('%g\\\\times2 =%g'%(i,i*2)))"
   ]
  },
  {
   "cell_type": "markdown",
   "id": "179e937a",
   "metadata": {},
   "source": [
    "a = 10\n",
    "\n",
    "b = 20\n",
    "\n",
    "result = 2*a =< b\n",
    "\n",
    "print(result)\n"
   ]
  },
  {
   "cell_type": "code",
   "execution_count": 10,
   "id": "e3b2bca6",
   "metadata": {},
   "outputs": [
    {
     "name": "stdout",
     "output_type": "stream",
     "text": [
      "True\n"
     ]
    }
   ],
   "source": [
    "a = 10\n",
    "b = 20\n",
    "result = 2*a <= b\n",
    "print(result)\n"
   ]
  },
  {
   "cell_type": "markdown",
   "id": "daf952ae",
   "metadata": {},
   "source": [
    "if a+b*2 > 40 then:\n",
    "     \n",
    "     print(str(a+b*2) + 'is greater than' + str(40) + 'Time to celebreate!)"
   ]
  },
  {
   "cell_type": "code",
   "execution_count": 18,
   "id": "ed6cae99",
   "metadata": {},
   "outputs": [
    {
     "name": "stdout",
     "output_type": "stream",
     "text": [
      "50 is greater than 40.Time to celebreate!\n"
     ]
    }
   ],
   "source": [
    "if a+b*2 > 40:\n",
    "    print(str(a+b*2) + ' is greater than ' + str(40) + '.Time to celebreate!')"
   ]
  },
  {
   "cell_type": "markdown",
   "id": "287d4972",
   "metadata": {},
   "source": [
    "var = input(input a number!)\n",
    "\n",
    "print(var)\n"
   ]
  },
  {
   "cell_type": "code",
   "execution_count": 20,
   "id": "0a4d940b",
   "metadata": {},
   "outputs": [
    {
     "name": "stdout",
     "output_type": "stream",
     "text": [
      "input a number!69\n",
      "69\n"
     ]
    }
   ],
   "source": [
    "var = input('input a number!')\n",
    "print(var)"
   ]
  },
  {
   "cell_type": "markdown",
   "id": "b817420e",
   "metadata": {},
   "source": [
    "4\\10"
   ]
  },
  {
   "cell_type": "code",
   "execution_count": 21,
   "id": "9c534ee3",
   "metadata": {},
   "outputs": [
    {
     "data": {
      "text/plain": [
       "0.4"
      ]
     },
     "execution_count": 21,
     "metadata": {},
     "output_type": "execute_result"
    }
   ],
   "source": [
    "4/10"
   ]
  },
  {
   "cell_type": "markdown",
   "id": "36a9b5d9",
   "metadata": {},
   "source": [
    "w = input('Input a number:')\n",
    "\n",
    "z = input('Input another number:')\n",
    "\n",
    "print('The sum of %s and %s is %s'%(w,z,w+z))"
   ]
  },
  {
   "cell_type": "code",
   "execution_count": 22,
   "id": "98649f07",
   "metadata": {},
   "outputs": [
    {
     "name": "stdout",
     "output_type": "stream",
     "text": [
      "Input a number:6.9\n",
      "Input another number:6.9\n",
      "The sum of 6.9 and 6.9 is 13.8\n"
     ]
    }
   ],
   "source": [
    "w = float(input('Input a number:'))\n",
    "\n",
    "z = float(input('Input another number:'))\n",
    "\n",
    "print('The sum of %s and %s is %s'%(w,z,w+z))"
   ]
  },
  {
   "cell_type": "markdown",
   "id": "af3f005b",
   "metadata": {},
   "source": [
    "display(Math('\\ \\frac{9}{3}=' + str(9/3))"
   ]
  },
  {
   "cell_type": "code",
   "execution_count": 23,
   "id": "46767f95",
   "metadata": {},
   "outputs": [
    {
     "data": {
      "text/latex": [
       "$\\displaystyle \\frac{9}{3}=3.0$"
      ],
      "text/plain": [
       "<IPython.core.display.Math object>"
      ]
     },
     "metadata": {},
     "output_type": "display_data"
    }
   ],
   "source": [
    "display(Math('\\\\frac{9}{3}=' + str(9/3)))"
   ]
  },
  {
   "cell_type": "markdown",
   "id": "62e50190",
   "metadata": {},
   "source": [
    "display(Math('\\ \\frac{9}{3} = ' + str(9/4)))"
   ]
  },
  {
   "cell_type": "code",
   "execution_count": 25,
   "id": "008287ca",
   "metadata": {},
   "outputs": [
    {
     "data": {
      "text/latex": [
       "$\\displaystyle \\frac{9}{3} = 3.0$"
      ],
      "text/plain": [
       "<IPython.core.display.Math object>"
      ]
     },
     "metadata": {},
     "output_type": "display_data"
    }
   ],
   "source": [
    "display(Math('\\\\frac{9}{3} = ' + str(9/3)))"
   ]
  },
  {
   "cell_type": "markdown",
   "id": "2786b9c6",
   "metadata": {},
   "source": [
    "t = 1\n",
    "\n",
    "while t<11:\n",
    "\n",
    "    print(t)"
   ]
  },
  {
   "cell_type": "code",
   "execution_count": 27,
   "id": "57aa004a",
   "metadata": {},
   "outputs": [
    {
     "name": "stdout",
     "output_type": "stream",
     "text": [
      "1\n",
      "2\n",
      "3\n",
      "4\n",
      "5\n",
      "6\n",
      "7\n",
      "8\n",
      "9\n",
      "10\n"
     ]
    }
   ],
   "source": [
    "t = 1\n",
    "while t<11:\n",
    "    print(t)\n",
    "    t = t+1"
   ]
  },
  {
   "cell_type": "code",
   "execution_count": null,
   "id": "2219c8cf",
   "metadata": {},
   "outputs": [],
   "source": []
  }
 ],
 "metadata": {
  "kernelspec": {
   "display_name": "Python 3 (ipykernel)",
   "language": "python",
   "name": "python3"
  },
  "language_info": {
   "codemirror_mode": {
    "name": "ipython",
    "version": 3
   },
   "file_extension": ".py",
   "mimetype": "text/x-python",
   "name": "python",
   "nbconvert_exporter": "python",
   "pygments_lexer": "ipython3",
   "version": "3.10.9"
  }
 },
 "nbformat": 4,
 "nbformat_minor": 5
}
